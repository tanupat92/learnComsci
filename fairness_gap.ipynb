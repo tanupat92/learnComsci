{
  "nbformat": 4,
  "nbformat_minor": 0,
  "metadata": {
    "colab": {
      "name": "fairness_gap.ipynb",
      "provenance": [],
      "include_colab_link": true
    },
    "kernelspec": {
      "name": "python3",
      "display_name": "Python 3"
    },
    "language_info": {
      "name": "python"
    }
  },
  "cells": [
    {
      "cell_type": "markdown",
      "metadata": {
        "id": "view-in-github",
        "colab_type": "text"
      },
      "source": [
        "<a href=\"https://colab.research.google.com/github/tanupat92/learnComsci/blob/master/fairness_gap.ipynb\" target=\"_parent\"><img src=\"https://colab.research.google.com/assets/colab-badge.svg\" alt=\"Open In Colab\"/></a>"
      ]
    },
    {
      "cell_type": "code",
      "metadata": {
        "id": "K1dVvxgCne4-"
      },
      "source": [
        "import numpy as np"
      ],
      "execution_count": null,
      "outputs": []
    },
    {
      "cell_type": "markdown",
      "metadata": {
        "id": "iEXN0logyH6o"
      },
      "source": [
        "## Toy data \n",
        "smoking --> lung cancer\n",
        "\n",
        "male and female"
      ]
    },
    {
      "cell_type": "code",
      "metadata": {
        "id": "Zr6TSUXx1Bad"
      },
      "source": [
        "#@title toy data variables\n",
        "n_male = 89 #@param {type:\"slider\", min:0, max:200, step:1}\n",
        "n_female = 37 #@param {type:\"slider\", min:0, max:200, step:1}\n",
        "prevalence = 0.8 #@param {type:\"slider\", min:0, max:1, step:0.1}\n",
        "is_prevalence_balanced = True #@param {type:\"boolean\"}\n",
        "male_prevalence = 1 #@param {type:\"slider\", min:0, max:1, step:0.1}\n",
        "female_prevalence = 0.7 #@param {type:\"slider\", min:0, max:1, step:0.1}\n",
        "use_recall = True #@param {type:\"boolean\"}\n",
        "recall = 1 #@param {type:\"slider\", min:0, max:1, step:0.1}\n",
        "precision = 1 #@param {type:\"slider\", min:0, max:1, step:0.1}\n",
        "n = n_male+n_female\n",
        "\n",
        "label_positive = (int(male_prevalence*n_male)+int(female_prevalence*n_female))\n",
        "\n",
        "if not is_prevalence_balanced:\n",
        "  prevalence = (int(male_prevalence*n_male)+int(female_prevalence*n_female))/ n\n",
        "if use_recall:\n",
        "  precision = TP/positive\n",
        "else:\n",
        "  positive \n",
        "  recall = TP/label_positive\n",
        "  \n"
      ],
      "execution_count": null,
      "outputs": []
    },
    {
      "cell_type": "code",
      "metadata": {
        "id": "eoPiLqGZ6Cfg"
      },
      "source": [
        "sex = np.zeros(n) \n",
        "sex[np.random.randint(0, n, n_male)] = 1\n",
        "\n",
        "y = np.zeros(n)\n",
        "if is_prevalence_balanced:\n",
        "  y[np.random.randint(0, n, int(prevalence*n))] = 1\n",
        "else:\n",
        "  m = np.random.choice(np.where(sex==1)[0], int(male_prevalence*n_male), replace=False)\n",
        "  y[m] =1\n",
        "  f = np.random.choice(np.where(sex==0)[0], int(female_prevalence*n_female), replace=False)\n",
        "  y[f] =1\n",
        "positive = np.sum(y==1)\n",
        "negative = n-positive\n",
        "TP= int(recall * positive)\n",
        "FN= positive-TP\n",
        "FP= int(TP/precision - TP)\n",
        "TN= negative - FP \n",
        "yhat = np.zeros(n)\n",
        "p = np.random.choice(np.where(y==1)[0], TP, replace=False)\n",
        "yhat[p] = 1\n",
        "n = np.random.choice(np.where(y==0)[0], FP, replace=False)\n",
        "yhat[n] = 1\n"
      ],
      "execution_count": null,
      "outputs": []
    },
    {
      "cell_type": "markdown",
      "metadata": {
        "id": "QIOGSlW60oS4"
      },
      "source": [
        ""
      ]
    },
    {
      "cell_type": "markdown",
      "metadata": {
        "id": "-uDHY_yquwMr"
      },
      "source": [
        "# Performance gap"
      ]
    },
    {
      "cell_type": "code",
      "metadata": {
        "id": "LFVAjhmIvqY8"
      },
      "source": [
        ""
      ],
      "execution_count": null,
      "outputs": []
    },
    {
      "cell_type": "markdown",
      "metadata": {
        "id": "hXEeI9bnu9Q3"
      },
      "source": [
        "# Fairness gap"
      ]
    },
    {
      "cell_type": "markdown",
      "metadata": {
        "id": "w1w78ATFutsy"
      },
      "source": [
        "### Parity gap (Demographic parity) \n",
        "$P(\\hat{Y}= y) = P(\\hat{Y}=\\hat{y}| Z=z), \\forall z\\in Z $"
      ]
    },
    {
      "cell_type": "code",
      "metadata": {
        "id": "6Qi5k-xXu_wT"
      },
      "source": [
        ""
      ],
      "execution_count": null,
      "outputs": []
    },
    {
      "cell_type": "markdown",
      "metadata": {
        "id": "s8Liubb_u1kO"
      },
      "source": [
        "### Recall gap (Equality of opportunity (positive class) )\n",
        "$P(\\hat{Y}=1|Y=1) = P(\\hat{Y}=1|Y=1, Z=z), \\forall z \\in Z$\n"
      ]
    },
    {
      "cell_type": "code",
      "metadata": {
        "id": "L2eQb9X8u0xh"
      },
      "source": [
        ""
      ],
      "execution_count": null,
      "outputs": []
    },
    {
      "cell_type": "markdown",
      "metadata": {
        "id": "cu6zMkJxu3Z5"
      },
      "source": [
        "### Specificity gap (Equality of opportunity (negative class))\n",
        "$P(\\hat{Y}=0|Y=0) = P(\\hat{Y}=0|Y=0,Z=z), \\forall z \\in Z$\n",
        "\n"
      ]
    },
    {
      "cell_type": "code",
      "metadata": {
        "id": "cz9IARx0u5yc"
      },
      "source": [
        ""
      ],
      "execution_count": null,
      "outputs": []
    },
    {
      "cell_type": "markdown",
      "metadata": {
        "id": "5CegOd5Cu6WA"
      },
      "source": [
        "### Log probability bias score"
      ]
    },
    {
      "cell_type": "code",
      "metadata": {
        "id": "BSObKxU9vARl"
      },
      "source": [
        ""
      ],
      "execution_count": null,
      "outputs": []
    }
  ]
}